{
 "cells": [
  {
   "cell_type": "code",
   "execution_count": 1,
   "id": "6d894097",
   "metadata": {},
   "outputs": [],
   "source": [
    "import requests\n",
    "from bs4 import BeautifulSoup"
   ]
  },
  {
   "cell_type": "code",
   "execution_count": 2,
   "id": "67708015",
   "metadata": {},
   "outputs": [],
   "source": [
    "dollar_url = 'https://www.google.ru/search?q=%D0%BA%D1%83%D1%80%D1%81+%D0%B4%D0%BE%D0%BB%D0%BB%D0%B0%D1%80%D0%B0&newwindow=1&sxsrf=APwXEdfkRukoj4TR-0yeD0_UEZFX6elJhQ%3A1688050680014&ei=-JudZL8o1ZOuBKLggZgG&oq=%D0%BA%D1%83%D1%80&gs_lcp=Cgxnd3Mtd2l6LXNlcnAQAxgAMg0IABCKBRCxAxCDARBDMg0IABCKBRCxAxCDARBDMgsIABCABBCxAxCDATINCAAQigUQsQMQgwEQQzINCAAQigUQsQMQgwEQQzILCAAQgAQQsQMQgwEyCwgAEIoFELEDEIMBMgsIABCABBCxAxCDATILCAAQgAQQsQMQgwEyDQgAEIoFELEDEIMBEEM6BwgjEOoCECc6DwgAEIoFEOoCELQCEEMYAToLCC4QgAQQsQMQgwE6EQguEIoFELEDEIMBEMcBENEDOgcIABCKBRBDOgUIABCABDoZCC4QgAQQsQMQgwEQlwUQ3AQQ3gQQ4AQYAjoTCC4QigUQsQMQgwEQxwEQ0QMQQzoOCC4QgAQQsQMQgwEQ1AI6BQguEIAEOgkILhCABBAKEAE6CQgAEIAEEAoQAToNCAAQgAQQsQMQgwEQCjoLCC4QigUQsQMQgwFKBAhBGABQlwlYoihgkjZoB3ABeACAAWmIAdIEkgEDNi4xmAEAoAEBsAEKwAEB2gEECAEYAdoBBggCEAEYFA&sclient=gws-wiz-serp'\n",
    "euro_url = 'https://www.google.ru/search?q=%D0%BA%D1%83%D1%80%D1%81+%D0%B5%D0%B2%D1%80%D0%BE&newwindow=1&sxsrf=APwXEdfXdQtU1rf6i7eXyRF87o33KfCStA%3A1688112040341&source=hp&ei=qIueZLWLEtGJrwSA_KDAAw&iflsig=AOEireoAAAAAZJ6ZuBgm8BIhZdKS7xNNBP8_2e2A8u2B&oq=%D0%BA%D1%83%D1%80%D1%81&gs_lcp=Cgdnd3Mtd2l6EAMYAjIHCCMQigUQJzILCAAQgAQQsQMQgwEyCwgAEIAEELEDEIMBMgsIABCABBCxAxCDATILCAAQgAQQsQMQgwEyCwgAEIAEELEDEIMBMgsIABCABBCxAxCDATIFCAAQgAQyCwgAEIAEELEDEIMBMgUIABCABDoHCCMQ6gIQJzoQCAAQAxCPARDqAhCMAxDlAjoQCC4QAxCPARDqAhCMAxDlAjoLCC4QigUQsQMQgwE6BQguEIAEOgsIABCKBRCxAxCDAVCSDFjpF2C9JGgBcAB4AIABbYgB9QKSAQMzLjGYAQCgAQGwAQo&sclient=gws-wiz'\n",
    "headers = {'User-Agent': 'Mozilla/5.0 (Windows NT 10.0; Win64; x64) AppleWebKit/537.36 (KHTML, like Gecko) Chrome/114.0.0.0 Safari/537.36'}"
   ]
  },
  {
   "cell_type": "code",
   "execution_count": 3,
   "id": "38d1eed9",
   "metadata": {},
   "outputs": [],
   "source": [
    "def exchange_rate():\n",
    "    \n",
    "    dollar_full_page = requests.get(dollar_url, headers=headers)\n",
    "\n",
    "    d_soup = BeautifulSoup(dollar_full_page.content, \"html.parser\")\n",
    "\n",
    "    d_convert = d_soup.findAll(\"span\", {\"class\": \"Flfde\", \"class\": \"SwHCTb\", \"data-precision\": 2})\n",
    "\n",
    "\n",
    "    \n",
    "    euro_full_page = requests.get(euro_url, headers=headers)\n",
    "\n",
    "    e_soup = BeautifulSoup(euro_full_page.content, \"html.parser\")\n",
    "\n",
    "    e_convert = e_soup.findAll(\"span\", {\"class\": \"DFlfde\", \"class\": \"SwHCTb\", \"data-precision\": 2})\n",
    "    \n",
    "    \n",
    "    print('Курс доллара к рублю', d_convert[0].text)\n",
    "    print('Курс евро к рублю', e_convert[0].text)"
   ]
  },
  {
   "cell_type": "code",
   "execution_count": 4,
   "id": "06715002",
   "metadata": {},
   "outputs": [
    {
     "name": "stdout",
     "output_type": "stream",
     "text": [
      "Курс доллара к рублю 88,16\n",
      "Курс евро к рублю 95,59\n"
     ]
    }
   ],
   "source": [
    "exchange_rate()"
   ]
  },
  {
   "cell_type": "markdown",
   "id": "0205f62c",
   "metadata": {},
   "source": [
    "И это во время налогового периода экспортёров... Тяжелые нынче времена)"
   ]
  }
 ],
 "metadata": {
  "kernelspec": {
   "display_name": "Python 3 (ipykernel)",
   "language": "python",
   "name": "python3"
  },
  "language_info": {
   "codemirror_mode": {
    "name": "ipython",
    "version": 3
   },
   "file_extension": ".py",
   "mimetype": "text/x-python",
   "name": "python",
   "nbconvert_exporter": "python",
   "pygments_lexer": "ipython3",
   "version": "3.9.13"
  }
 },
 "nbformat": 4,
 "nbformat_minor": 5
}
